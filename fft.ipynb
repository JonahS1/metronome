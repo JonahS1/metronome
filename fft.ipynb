{
 "cells": [
  {
   "attachments": {},
   "cell_type": "markdown",
   "metadata": {},
   "source": [
    "The purpose of this notebook is to play around with different FFT parameters to visualize the time and frequency domain graphs and to see how the frequency resolution and total time are affected."
   ]
  },
  {
   "cell_type": "code",
   "execution_count": null,
   "metadata": {},
   "outputs": [],
   "source": [
    "import numpy as np\n",
    "import matplotlib.pyplot as plt\n",
    "import math"
   ]
  },
  {
   "attachments": {},
   "cell_type": "markdown",
   "metadata": {},
   "source": [
    "1. 2^6 samples, 6.4 s, 0.15 Hz\n",
    "2. 2^8 samples, 26 s, 0.04 Hz\n",
    "3. 2^10 samples, 1.7 min, 0.01 Hz\n",
    "4. 2^12 samples, 6.8 min, 0.0024 Hz\n",
    "5. 2^13 samples, 14 min, 0.0012 Hz\n",
    "6. 2^14 samples, 27 min, 0.0006 Hz"
   ]
  },
  {
   "cell_type": "code",
   "execution_count": null,
   "metadata": {},
   "outputs": [],
   "source": [
    "# sample rate\n",
    "sr = 10\n",
    "# total number of samples\n",
    "n = 2**6\n",
    "# total amount of time over which samples are taken\n",
    "seconds = n / sr"
   ]
  },
  {
   "cell_type": "code",
   "execution_count": null,
   "metadata": {},
   "outputs": [],
   "source": [
    "# array of time values (horizontal axis of time domain graph)\n",
    "t = np.arange(n) / sr\n",
    "# frequency of signal in Hz\n",
    "freq = 1\n",
    "# period of signal in seconds\n",
    "per = 1/freq\n",
    "# signal output (vertical axis of time domain graph)\n",
    "# either sawtooth wave or triangle wave depending on the type of phase detector\n",
    "SAWTOOTH = False\n",
    "y = 4*((t + per/2) % per - per/2) if SAWTOOTH else 4*(abs((t + per/2) % per - per/2) - per/4)\n",
    "# fourier transform of signal and take magnitudes of complex numbers\n",
    "fy = abs(np.fft.fft(y))\n",
    "# centers of frequency bins (horizontal axis of frequency domain graph)\n",
    "f = np.fft.fftfreq(n, d = 1/sr)\n",
    "# get rid of negative frequencies\n",
    "fy = fy[0:math.ceil(n / 2)]\n",
    "f = f[0:math.ceil(n / 2)]\n",
    "# plot either frequency or time domain graph\n",
    "TIME_DOMAIN = False\n",
    "plt.plot(t, y) if TIME_DOMAIN else plt.plot(f, fy)\n",
    "# find frequency of signal with maximum magnitude (which is typically the fundamental)\n",
    "fmax = f[fy.argmax()]\n",
    "print('resolution:', f[1], 'Hz')\n",
    "print('time:', seconds, 'seconds', '=', seconds/60, 'minutes')\n",
    "print('measured freq:', fmax, 'Hz')\n",
    "print('actual freq:', freq, 'Hz')"
   ]
  }
 ],
 "metadata": {
  "kernelspec": {
   "display_name": "Python 3",
   "language": "python",
   "name": "python3"
  },
  "language_info": {
   "codemirror_mode": {
    "name": "ipython",
    "version": 3
   },
   "file_extension": ".py",
   "mimetype": "text/x-python",
   "name": "python",
   "nbconvert_exporter": "python",
   "pygments_lexer": "ipython3",
   "version": "3.11.4"
  },
  "orig_nbformat": 4
 },
 "nbformat": 4,
 "nbformat_minor": 2
}
